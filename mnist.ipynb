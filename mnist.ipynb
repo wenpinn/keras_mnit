{
  "nbformat": 4,
  "nbformat_minor": 0,
  "metadata": {
    "colab": {
      "name": "mnist.ipynb",
      "version": "0.3.2",
      "provenance": [],
      "include_colab_link": true
    },
    "kernelspec": {
      "name": "python3",
      "display_name": "Python 3"
    },
    "accelerator": "TPU"
  },
  "cells": [
    {
      "cell_type": "markdown",
      "metadata": {
        "id": "view-in-github",
        "colab_type": "text"
      },
      "source": [
        "[View in Colaboratory](https://colab.research.google.com/github/wenpinn/keras_mnit/blob/master/mnist.ipynb)"
      ]
    },
    {
      "metadata": {
        "id": "dP958HSiTgzR",
        "colab_type": "code",
        "colab": {
          "base_uri": "https://localhost:8080/",
          "height": 34
        },
        "outputId": "2121aa24-1a4e-4d8b-c968-956ad2fa6c96"
      },
      "cell_type": "code",
      "source": [
        "import numpy as np\n",
        "import pandas as pd\n",
        "from keras.utils import np_utils\n",
        "np.random.seed(10)\n"
      ],
      "execution_count": 1,
      "outputs": [
        {
          "output_type": "stream",
          "text": [
            "Using TensorFlow backend.\n"
          ],
          "name": "stderr"
        }
      ]
    },
    {
      "metadata": {
        "id": "7ECmqZpCVKxU",
        "colab_type": "code",
        "colab": {}
      },
      "cell_type": "code",
      "source": [
        "from keras.datasets import mnist"
      ],
      "execution_count": 0,
      "outputs": []
    },
    {
      "metadata": {
        "id": "yCmPH-OoVgoE",
        "colab_type": "code",
        "colab": {
          "base_uri": "https://localhost:8080/",
          "height": 51
        },
        "outputId": "223d0996-5f42-46b9-c650-225c57c5ac91"
      },
      "cell_type": "code",
      "source": [
        "(X_train_image,Y_train_label),(X_test_image,Y_test_label)=mnist.load_data()"
      ],
      "execution_count": 3,
      "outputs": [
        {
          "output_type": "stream",
          "text": [
            "Downloading data from https://s3.amazonaws.com/img-datasets/mnist.npz\n",
            "11493376/11490434 [==============================] - 1s 0us/step\n"
          ],
          "name": "stdout"
        }
      ]
    },
    {
      "metadata": {
        "id": "Dtbo-SBsXY-7",
        "colab_type": "code",
        "colab": {
          "base_uri": "https://localhost:8080/",
          "height": 323
        },
        "outputId": "eac43c5d-9d3b-4f5e-d1af-9de00ba5e1b4"
      },
      "cell_type": "code",
      "source": [
        "print(X_train_image.shape)\n",
        "print(X_train_image[0:2])\n",
        "print('label:',Y_train_label.shape)\n",
        "print(Y_train_label[0:5])"
      ],
      "execution_count": 4,
      "outputs": [
        {
          "output_type": "stream",
          "text": [
            "(60000, 28, 28)\n",
            "[[[0 0 0 ... 0 0 0]\n",
            "  [0 0 0 ... 0 0 0]\n",
            "  [0 0 0 ... 0 0 0]\n",
            "  ...\n",
            "  [0 0 0 ... 0 0 0]\n",
            "  [0 0 0 ... 0 0 0]\n",
            "  [0 0 0 ... 0 0 0]]\n",
            "\n",
            " [[0 0 0 ... 0 0 0]\n",
            "  [0 0 0 ... 0 0 0]\n",
            "  [0 0 0 ... 0 0 0]\n",
            "  ...\n",
            "  [0 0 0 ... 0 0 0]\n",
            "  [0 0 0 ... 0 0 0]\n",
            "  [0 0 0 ... 0 0 0]]]\n",
            "label: (60000,)\n",
            "[5 0 4 1 9]\n"
          ],
          "name": "stdout"
        }
      ]
    },
    {
      "metadata": {
        "id": "-DRF_QBQZmsr",
        "colab_type": "code",
        "colab": {}
      },
      "cell_type": "code",
      "source": [
        "import matplotlib.pyplot as plt\n",
        "def plot_image(image):\n",
        "  fig=plt.gcf()\n",
        "  fig.set_size_inches(2,2)\n",
        "  plt.imshow(image,cmap='binary')\n",
        "  plt.show()\n"
      ],
      "execution_count": 0,
      "outputs": []
    },
    {
      "metadata": {
        "id": "ASJWfkf2bApp",
        "colab_type": "code",
        "colab": {
          "base_uri": "https://localhost:8080/",
          "height": 727
        },
        "outputId": "c9995d2a-0782-4746-9b3f-9df1ae31141e"
      },
      "cell_type": "code",
      "source": [
        "for x in range(0,5):\n",
        "  plot_image(X_train_image[x])"
      ],
      "execution_count": 6,
      "outputs": [
        {
          "output_type": "display_data",
          "data": {
            "image/png": "[encoded data removed]",
            "text/plain": [
              "<matplotlib.figure.Figure at 0x7fcd8c28b908>"
            ]
          },
          "metadata": {
            "tags": []
          }
        },
        {
          "output_type": "display_data",
          "data": {
            "image/png": "[encoded data removed]",
            "text/plain": [
              "<matplotlib.figure.Figure at 0x7fcd8be2e5c0>"
            ]
          },
          "metadata": {
            "tags": []
          }
        },
        {
          "output_type": "display_data",
          "data": {
            "image/png": "[encoded data removed]",
            "text/plain": [
              "<matplotlib.figure.Figure at 0x7fcd8be1e828>"
            ]
          },
          "metadata": {
            "tags": []
          }
        },
        {
          "output_type": "display_data",
          "data": {
            "image/png": "[encoded data removed]",
            "text/plain": [
              "<matplotlib.figure.Figure at 0x7fcd8957de48>"
            ]
          },
          "metadata": {
            "tags": []
          }
        },
        {
          "output_type": "display_data",
          "data": {
            "image/png": "[encoded data removed]",
            "text/plain": [
              "<matplotlib.figure.Figure at 0x7fcd894dc588>"
            ]
          },
          "metadata": {
            "tags": []
          }
        }
      ]
    },
    {
      "metadata": {
        "id": "x0WU9a76cHHP",
        "colab_type": "code",
        "colab": {}
      },
      "cell_type": "code",
      "source": [
        "#retrieve feature\n",
        "X_train=X_train_image.reshape(60000,28*28).astype('float32')\n",
        "X_test=X_test_image.reshape(10000,28*28).astype('float32')\n",
        "#normailization 0~1\n",
        "X_train_normalization=X_train/255\n",
        "X_test_normalization=X_test/255"
      ],
      "execution_count": 0,
      "outputs": []
    },
    {
      "metadata": {
        "id": "pN9G8s8hfSAV",
        "colab_type": "code",
        "colab": {}
      },
      "cell_type": "code",
      "source": [
        "#one hot encoding : 2 -> 0 0 1 0 0 0 0 0 0 0\n",
        "Y_train_onehot=np_utils.to_categorical(Y_train_label)\n",
        "Y_test_onehot=np_utils.to_categorical(Y_test_label)\n"
      ],
      "execution_count": 0,
      "outputs": []
    },
    {
      "metadata": {
        "id": "A_ajX_Cny-do",
        "colab_type": "code",
        "colab": {}
      },
      "cell_type": "code",
      "source": [
        "#MLP\n",
        "#Model build\n",
        "from keras.models import Sequential\n",
        "from keras.layers import Dense\n"
      ],
      "execution_count": 0,
      "outputs": []
    },
    {
      "metadata": {
        "id": "fXxBC07g1jJe",
        "colab_type": "code",
        "colab": {}
      },
      "cell_type": "code",
      "source": [
        "model=Sequential()"
      ],
      "execution_count": 0,
      "outputs": []
    },
    {
      "metadata": {
        "id": "kr5_ZTmg1xNG",
        "colab_type": "code",
        "colab": {}
      },
      "cell_type": "code",
      "source": [
        "model.add(Dense(units=256,\n",
        "               input_dim=784,\n",
        "               kernel_initializer='normal',\n",
        "               activation='relu'))"
      ],
      "execution_count": 0,
      "outputs": []
    },
    {
      "metadata": {
        "id": "bAgf_vm13kKt",
        "colab_type": "code",
        "colab": {}
      },
      "cell_type": "code",
      "source": [
        "model.add(Dense(units=10,\n",
        "               kernel_initializer='normal',\n",
        "               activation='softmax'))          "
      ],
      "execution_count": 0,
      "outputs": []
    },
    {
      "metadata": {
        "id": "SqNPOlbo4jW2",
        "colab_type": "code",
        "colab": {
          "base_uri": "https://localhost:8080/",
          "height": 204
        },
        "outputId": "a1cdd526-b773-4367-ca5f-6c4e689e99a0"
      },
      "cell_type": "code",
      "source": [
        "model.summary()"
      ],
      "execution_count": 31,
      "outputs": [
        {
          "output_type": "stream",
          "text": [
            "_________________________________________________________________\n",
            "Layer (type)                 Output Shape              Param #   \n",
            "=================================================================\n",
            "dense_9 (Dense)              (None, 256)               200960    \n",
            "_________________________________________________________________\n",
            "dense_10 (Dense)             (None, 10)                2570      \n",
            "=================================================================\n",
            "Total params: 203,530\n",
            "Trainable params: 203,530\n",
            "Non-trainable params: 0\n",
            "_________________________________________________________________\n"
          ],
          "name": "stdout"
        }
      ]
    },
    {
      "metadata": {
        "id": "gRHpaU3A8nyK",
        "colab_type": "code",
        "colab": {}
      },
      "cell_type": "code",
      "source": [
        "#define training method\n",
        "model.compile(loss='categorical_crossentropy',\n",
        "             optimizer='adam',\n",
        "             metrics=['accuracy'])"
      ],
      "execution_count": 0,
      "outputs": []
    },
    {
      "metadata": {
        "id": "pCSJ65M79SwJ",
        "colab_type": "code",
        "colab": {
          "base_uri": "https://localhost:8080/",
          "height": 374
        },
        "outputId": "21b2c4ef-2818-4851-c53d-6b1f8472ef12"
      },
      "cell_type": "code",
      "source": [
        "#start to training\n",
        "train_history=model.fit(x=X_train_normalization,\n",
        "                       y=Y_train_onehot,\n",
        "                       validation_split=0.2,  #80% train 20% test\n",
        "                       epochs=10,\n",
        "                       batch_size=200,\n",
        "                       verbose=2)"
      ],
      "execution_count": 42,
      "outputs": [
        {
          "output_type": "stream",
          "text": [
            "Train on 48000 samples, validate on 12000 samples\n",
            "Epoch 1/10\n",
            " - 2s - loss: 7.8939e-04 - acc: 1.0000 - val_loss: 0.0857 - val_acc: 0.9796\n",
            "Epoch 2/10\n",
            " - 2s - loss: 0.0033 - acc: 0.9993 - val_loss: 0.1321 - val_acc: 0.9692\n",
            "Epoch 3/10\n",
            " - 2s - loss: 0.0217 - acc: 0.9924 - val_loss: 0.1001 - val_acc: 0.9771\n",
            "Epoch 4/10\n",
            " - 2s - loss: 0.0030 - acc: 0.9994 - val_loss: 0.0921 - val_acc: 0.9798\n",
            "Epoch 5/10\n",
            " - 2s - loss: 9.7068e-04 - acc: 1.0000 - val_loss: 0.0907 - val_acc: 0.9794\n",
            "Epoch 6/10\n",
            " - 2s - loss: 5.5825e-04 - acc: 1.0000 - val_loss: 0.0897 - val_acc: 0.9803\n",
            "Epoch 7/10\n",
            " - 2s - loss: 4.7874e-04 - acc: 1.0000 - val_loss: 0.0905 - val_acc: 0.9798\n",
            "Epoch 8/10\n",
            " - 2s - loss: 4.1037e-04 - acc: 1.0000 - val_loss: 0.0912 - val_acc: 0.9799\n",
            "Epoch 9/10\n",
            " - 2s - loss: 3.7384e-04 - acc: 1.0000 - val_loss: 0.0915 - val_acc: 0.9799\n",
            "Epoch 10/10\n",
            " - 2s - loss: 3.3925e-04 - acc: 1.0000 - val_loss: 0.0918 - val_acc: 0.9801\n"
          ],
          "name": "stdout"
        }
      ]
    },
    {
      "metadata": {
        "id": "Um0ZoT8NDZ7v",
        "colab_type": "code",
        "colab": {
          "base_uri": "https://localhost:8080/",
          "height": 51
        },
        "outputId": "5eded093-d535-41d7-bb51-c14ad84eb58c"
      },
      "cell_type": "code",
      "source": [
        "Y_testOneHot=np_utils.to_categorical(Y_test_label)\n",
        "score=model.evaluate(X_test_normalization,Y_testOneHot)\n",
        "print('prec:',score[1]*100,'%')"
      ],
      "execution_count": 44,
      "outputs": [
        {
          "output_type": "stream",
          "text": [
            "10000/10000 [==============================] - 0s 42us/step\n",
            "prec: 98.16 %\n"
          ],
          "name": "stdout"
        }
      ]
    },
    {
      "metadata": {
        "id": "YjpOyOOuEWGM",
        "colab_type": "code",
        "colab": {
          "base_uri": "https://localhost:8080/",
          "height": 390
        },
        "outputId": "fd22b38a-895e-407b-e1db-190b10637159"
      },
      "cell_type": "code",
      "source": [
        "#confusion matrix\n",
        "prediction=model.predict_classes(X_test)\n",
        "pd.crosstab(Y_test_label,prediction,\n",
        "           rownames=['label'],colnames=['predict'])"
      ],
      "execution_count": 48,
      "outputs": [
        {
          "output_type": "execute_result",
          "data": {
            "text/html": [
              "<div>\n",
              "<style scoped>\n",
              "    .dataframe tbody tr th:only-of-type {\n",
              "        vertical-align: middle;\n",
              "    }\n",
              "\n",
              "    .dataframe tbody tr th {\n",
              "        vertical-align: top;\n",
              "    }\n",
              "\n",
              "    .dataframe thead th {\n",
              "        text-align: right;\n",
              "    }\n",
              "</style>\n",
              "<table border=\"1\" class=\"dataframe\">\n",
              "  <thead>\n",
              "    <tr style=\"text-align: right;\">\n",
              "      <th>predict</th>\n",
              "      <th>0</th>\n",
              "      <th>1</th>\n",
              "      <th>2</th>\n",
              "      <th>3</th>\n",
              "      <th>4</th>\n",
              "      <th>5</th>\n",
              "      <th>6</th>\n",
              "      <th>7</th>\n",
              "      <th>8</th>\n",
              "      <th>9</th>\n",
              "    </tr>\n",
              "    <tr>\n",
              "      <th>label</th>\n",
              "      <th></th>\n",
              "      <th></th>\n",
              "      <th></th>\n",
              "      <th></th>\n",
              "      <th></th>\n",
              "      <th></th>\n",
              "      <th></th>\n",
              "      <th></th>\n",
              "      <th></th>\n",
              "      <th></th>\n",
              "    </tr>\n",
              "  </thead>\n",
              "  <tbody>\n",
              "    <tr>\n",
              "      <th>0</th>\n",
              "      <td>972</td>\n",
              "      <td>0</td>\n",
              "      <td>2</td>\n",
              "      <td>1</td>\n",
              "      <td>1</td>\n",
              "      <td>0</td>\n",
              "      <td>1</td>\n",
              "      <td>1</td>\n",
              "      <td>2</td>\n",
              "      <td>0</td>\n",
              "    </tr>\n",
              "    <tr>\n",
              "      <th>1</th>\n",
              "      <td>0</td>\n",
              "      <td>1124</td>\n",
              "      <td>4</td>\n",
              "      <td>1</td>\n",
              "      <td>0</td>\n",
              "      <td>1</td>\n",
              "      <td>2</td>\n",
              "      <td>1</td>\n",
              "      <td>2</td>\n",
              "      <td>0</td>\n",
              "    </tr>\n",
              "    <tr>\n",
              "      <th>2</th>\n",
              "      <td>4</td>\n",
              "      <td>1</td>\n",
              "      <td>1012</td>\n",
              "      <td>2</td>\n",
              "      <td>1</td>\n",
              "      <td>0</td>\n",
              "      <td>3</td>\n",
              "      <td>5</td>\n",
              "      <td>4</td>\n",
              "      <td>0</td>\n",
              "    </tr>\n",
              "    <tr>\n",
              "      <th>3</th>\n",
              "      <td>0</td>\n",
              "      <td>0</td>\n",
              "      <td>2</td>\n",
              "      <td>999</td>\n",
              "      <td>0</td>\n",
              "      <td>3</td>\n",
              "      <td>0</td>\n",
              "      <td>3</td>\n",
              "      <td>2</td>\n",
              "      <td>1</td>\n",
              "    </tr>\n",
              "    <tr>\n",
              "      <th>4</th>\n",
              "      <td>1</td>\n",
              "      <td>0</td>\n",
              "      <td>4</td>\n",
              "      <td>1</td>\n",
              "      <td>962</td>\n",
              "      <td>0</td>\n",
              "      <td>2</td>\n",
              "      <td>3</td>\n",
              "      <td>0</td>\n",
              "      <td>9</td>\n",
              "    </tr>\n",
              "    <tr>\n",
              "      <th>5</th>\n",
              "      <td>2</td>\n",
              "      <td>0</td>\n",
              "      <td>0</td>\n",
              "      <td>16</td>\n",
              "      <td>1</td>\n",
              "      <td>862</td>\n",
              "      <td>4</td>\n",
              "      <td>2</td>\n",
              "      <td>2</td>\n",
              "      <td>3</td>\n",
              "    </tr>\n",
              "    <tr>\n",
              "      <th>6</th>\n",
              "      <td>5</td>\n",
              "      <td>2</td>\n",
              "      <td>0</td>\n",
              "      <td>1</td>\n",
              "      <td>2</td>\n",
              "      <td>5</td>\n",
              "      <td>942</td>\n",
              "      <td>1</td>\n",
              "      <td>0</td>\n",
              "      <td>0</td>\n",
              "    </tr>\n",
              "    <tr>\n",
              "      <th>7</th>\n",
              "      <td>1</td>\n",
              "      <td>5</td>\n",
              "      <td>8</td>\n",
              "      <td>2</td>\n",
              "      <td>0</td>\n",
              "      <td>0</td>\n",
              "      <td>0</td>\n",
              "      <td>1005</td>\n",
              "      <td>2</td>\n",
              "      <td>5</td>\n",
              "    </tr>\n",
              "    <tr>\n",
              "      <th>8</th>\n",
              "      <td>4</td>\n",
              "      <td>0</td>\n",
              "      <td>3</td>\n",
              "      <td>10</td>\n",
              "      <td>3</td>\n",
              "      <td>3</td>\n",
              "      <td>2</td>\n",
              "      <td>4</td>\n",
              "      <td>943</td>\n",
              "      <td>2</td>\n",
              "    </tr>\n",
              "    <tr>\n",
              "      <th>9</th>\n",
              "      <td>2</td>\n",
              "      <td>5</td>\n",
              "      <td>0</td>\n",
              "      <td>4</td>\n",
              "      <td>5</td>\n",
              "      <td>3</td>\n",
              "      <td>0</td>\n",
              "      <td>5</td>\n",
              "      <td>1</td>\n",
              "      <td>984</td>\n",
              "    </tr>\n",
              "  </tbody>\n",
              "</table>\n",
              "</div>"
            ],
            "text/plain": [
              "predict    0     1     2    3    4    5    6     7    8    9\n",
              "label                                                       \n",
              "0        972     0     2    1    1    0    1     1    2    0\n",
              "1          0  1124     4    1    0    1    2     1    2    0\n",
              "2          4     1  1012    2    1    0    3     5    4    0\n",
              "3          0     0     2  999    0    3    0     3    2    1\n",
              "4          1     0     4    1  962    0    2     3    0    9\n",
              "5          2     0     0   16    1  862    4     2    2    3\n",
              "6          5     2     0    1    2    5  942     1    0    0\n",
              "7          1     5     8    2    0    0    0  1005    2    5\n",
              "8          4     0     3   10    3    3    2     4  943    2\n",
              "9          2     5     0    4    5    3    0     5    1  984"
            ]
          },
          "metadata": {
            "tags": []
          },
          "execution_count": 48
        }
      ]
    },
    {
      "metadata": {
        "id": "l0BK1bFcFict",
        "colab_type": "code",
        "colab": {
          "base_uri": "https://localhost:8080/",
          "height": 1105
        },
        "outputId": "1bfea1dc-3f99-47bd-e523-b2627f4ad3c8"
      },
      "cell_type": "code",
      "source": [
        "#data frame \n",
        "df=pd.DataFrame({'label':Y_test_label,'predict':prediction})\n",
        "print(df)\n"
      ],
      "execution_count": 50,
      "outputs": [
        {
          "output_type": "stream",
          "text": [
            "      label  predict\n",
            "0         7        7\n",
            "1         2        2\n",
            "2         1        1\n",
            "3         0        0\n",
            "4         4        4\n",
            "5         1        1\n",
            "6         4        4\n",
            "7         9        9\n",
            "8         5        5\n",
            "9         9        9\n",
            "10        0        0\n",
            "11        6        6\n",
            "12        9        9\n",
            "13        0        0\n",
            "14        1        1\n",
            "15        5        5\n",
            "16        9        9\n",
            "17        7        7\n",
            "18        3        3\n",
            "19        4        4\n",
            "20        9        9\n",
            "21        6        6\n",
            "22        6        6\n",
            "23        5        5\n",
            "24        4        4\n",
            "25        0        0\n",
            "26        7        7\n",
            "27        4        4\n",
            "28        0        0\n",
            "29        1        1\n",
            "...     ...      ...\n",
            "9970      5        5\n",
            "9971      2        2\n",
            "9972      4        4\n",
            "9973      9        9\n",
            "9974      4        4\n",
            "9975      3        3\n",
            "9976      6        6\n",
            "9977      4        4\n",
            "9978      1        1\n",
            "9979      7        7\n",
            "9980      2        2\n",
            "9981      6        6\n",
            "9982      5        6\n",
            "9983      0        0\n",
            "9984      1        1\n",
            "9985      2        2\n",
            "9986      3        3\n",
            "9987      4        4\n",
            "9988      5        5\n",
            "9989      6        6\n",
            "9990      7        7\n",
            "9991      8        8\n",
            "9992      9        9\n",
            "9993      0        0\n",
            "9994      1        1\n",
            "9995      2        2\n",
            "9996      3        3\n",
            "9997      4        4\n",
            "9998      5        5\n",
            "9999      6        6\n",
            "\n",
            "[10000 rows x 2 columns]\n"
          ],
          "name": "stdout"
        }
      ]
    }
  ]
}